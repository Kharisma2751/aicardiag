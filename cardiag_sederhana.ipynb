{
 "cells": [
  {
   "cell_type": "code",
   "execution_count": 13,
   "metadata": {},
   "outputs": [],
   "source": [
    "class CarRepairAI:\n",
    "    def __init__(self):\n",
    "        self.symptoms = \"\"\n",
    "\n",
    "    def initiate(self, user_input):\n",
    "        self.symptoms = user_input\n",
    "        return \"I will give you the symptoms of the car issue. Please describe the problem.\"\n",
    "\n",
    "    def reply(self, user_input):\n",
    "        response = \"\"\n",
    "        if \"engine\" in self.symptoms.lower() and \"won't start\" in user_input.lower():\n",
    "            response = \"It seems like there might be an issue with the battery or starter. Try jumpstarting the car or check the battery connections.\"\n",
    "        elif \"strange noise\" in user_input.lower() and \"brakes\" in self.symptoms.lower():\n",
    "            response = \"A strange noise from the brakes could indicate worn-out brake pads. Consider inspecting and replacing the brake pads.\"\n",
    "        else:\n",
    "            response = \"I'm sorry, I couldn't identify the issue based on the provided information. Please consult with a professional mechanic.\"\n",
    "\n",
    "        return response\n",
    "\n",
    "\n",
    "\n",
    "\n",
    "\n",
    "\n"
   ]
  },
  {
   "cell_type": "code",
   "execution_count": 14,
   "metadata": {},
   "outputs": [],
   "source": [
    "# Inisialisasi AI\n",
    "car_repair_ai = CarRepairAI()"
   ]
  },
  {
   "cell_type": "code",
   "execution_count": 15,
   "metadata": {},
   "outputs": [
    {
     "name": "stdout",
     "output_type": "stream",
     "text": [
      "I will give you the symptoms of the car issue. Please describe the problem.\n"
     ]
    }
   ],
   "source": [
    "# Mulai percakapan\n",
    "initiation_response = car_repair_ai.initiate(\"\")\n",
    "print(initiation_response)"
   ]
  },
  {
   "cell_type": "code",
   "execution_count": 16,
   "metadata": {},
   "outputs": [
    {
     "name": "stdout",
     "output_type": "stream",
     "text": [
      "I'm sorry, I couldn't identify the issue based on the provided information. Please consult with a professional mechanic.\n"
     ]
    }
   ],
   "source": [
    "# Menerima input dari pengguna dan mendapatkan respons AI\n",
    "user_input = input()\n",
    "reply_response = car_repair_ai.reply(user_input)\n",
    "print(reply_response)"
   ]
  }
 ],
 "metadata": {
  "kernelspec": {
   "display_name": "Python 3",
   "language": "python",
   "name": "python3"
  },
  "language_info": {
   "codemirror_mode": {
    "name": "ipython",
    "version": 3
   },
   "file_extension": ".py",
   "mimetype": "text/x-python",
   "name": "python",
   "nbconvert_exporter": "python",
   "pygments_lexer": "ipython3",
   "version": "3.11.3"
  }
 },
 "nbformat": 4,
 "nbformat_minor": 2
}
